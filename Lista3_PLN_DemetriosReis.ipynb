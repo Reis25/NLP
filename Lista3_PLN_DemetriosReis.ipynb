{
  "nbformat": 4,
  "nbformat_minor": 0,
  "metadata": {
    "colab": {
      "name": "Lista3_PLN_DemetriosReis.ipynb",
      "provenance": [],
      "collapsed_sections": [],
      "authorship_tag": "ABX9TyN9U8X1QRMY3DaK2vF4oDeM",
      "include_colab_link": true
    },
    "kernelspec": {
      "name": "python3",
      "display_name": "Python 3"
    }
  },
  "cells": [
    {
      "cell_type": "markdown",
      "metadata": {
        "id": "view-in-github",
        "colab_type": "text"
      },
      "source": [
        "<a href=\"https://colab.research.google.com/github/Reis25/NLP/blob/master/Lista3_PLN_DemetriosReis.ipynb\" target=\"_parent\"><img src=\"https://colab.research.google.com/assets/colab-badge.svg\" alt=\"Open In Colab\"/></a>"
      ]
    },
    {
      "cell_type": "markdown",
      "metadata": {
        "id": "nRKN5u1PXugS",
        "colab_type": "text"
      },
      "source": [
        "\n",
        "**UNIVERSIDADE FEDERAL DE ALAGOAS**\n",
        "\n",
        "INSTITUTO DE COMPUTAÇÃO\n",
        "\n",
        "Processamento de Linguagem Natural\n",
        "\n",
        "Professor: Thales Vieira\n",
        "\n",
        "Aluno: **Demétrios Reis Costa**\n",
        "\n",
        "3ª lista de exercícios\n",
        "\n",
        "---"
      ]
    },
    {
      "cell_type": "markdown",
      "metadata": {
        "id": "9CVV6zD2X7zq",
        "colab_type": "text"
      },
      "source": [
        "Usando sua base de textos após os pré-processamento realizados na lista 2,\n",
        "realize as seguintes tarefas:\n",
        "\n",
        "---\n",
        "\n"
      ]
    },
    {
      "cell_type": "code",
      "metadata": {
        "id": "qgHG9KjVTfUP",
        "colab_type": "code",
        "colab": {}
      },
      "source": [
        "import os\n",
        "import re\n",
        "import nltk\n",
        "import numpy as np\n",
        "import pandas as pd\n",
        "import seaborn as sns\n",
        "import matplotlib.pyplot as plt"
      ],
      "execution_count": null,
      "outputs": []
    },
    {
      "cell_type": "markdown",
      "metadata": {
        "id": "KNUfWKG_Yxrq",
        "colab_type": "text"
      },
      "source": [
        "**1. Escolha 10 documentos da base, e determine seu documento mais parecido\n",
        "(que não pode ser ele mesmo), usando:**\n"
      ]
    },
    {
      "cell_type": "code",
      "metadata": {
        "id": "a-eCDqMCZKhJ",
        "colab_type": "code",
        "colab": {}
      },
      "source": [
        ""
      ],
      "execution_count": null,
      "outputs": []
    },
    {
      "cell_type": "markdown",
      "metadata": {
        "id": "6zUXXRINZK2W",
        "colab_type": "text"
      },
      "source": [
        "a) Representação vetorial CountVectorizer com similaridade do cosseno;\n"
      ]
    },
    {
      "cell_type": "code",
      "metadata": {
        "id": "zKmEkcAPaV1y",
        "colab_type": "code",
        "colab": {}
      },
      "source": [
        ""
      ],
      "execution_count": null,
      "outputs": []
    },
    {
      "cell_type": "markdown",
      "metadata": {
        "id": "sPUJGVMYZU9i",
        "colab_type": "text"
      },
      "source": [
        "b) Representação vetorial TF-IDF com similaridade do cosseno.\n",
        "\n",
        "Mostre pelo menos um trecho de cada par de documentos parecidos que justifique\n",
        "essa semelhança."
      ]
    },
    {
      "cell_type": "code",
      "metadata": {
        "id": "E1UjQ_f3aW4A",
        "colab_type": "code",
        "colab": {}
      },
      "source": [
        ""
      ],
      "execution_count": null,
      "outputs": []
    },
    {
      "cell_type": "markdown",
      "metadata": {
        "id": "SISFViRLYhOd",
        "colab_type": "text"
      },
      "source": [
        "**2. Elabore um problema de classificação binária de textos coerente com sua base.**\n",
        "\n"
      ]
    },
    {
      "cell_type": "markdown",
      "metadata": {
        "id": "b1cwedkJZqOR",
        "colab_type": "text"
      },
      "source": [
        "a) Rotule seus documentos manualmente (sugestão: separar em pastas distintas).\n"
      ]
    },
    {
      "cell_type": "code",
      "metadata": {
        "id": "QRb7zG9zabhw",
        "colab_type": "code",
        "colab": {}
      },
      "source": [
        ""
      ],
      "execution_count": null,
      "outputs": []
    },
    {
      "cell_type": "markdown",
      "metadata": {
        "id": "nPx6M3WHZs_C",
        "colab_type": "text"
      },
      "source": [
        "b) Extraia as representações vetoriais com CountVectorizer e TF-IDF.\n"
      ]
    },
    {
      "cell_type": "code",
      "metadata": {
        "id": "u7Dpck6HcF3j",
        "colab_type": "code",
        "colab": {}
      },
      "source": [
        ""
      ],
      "execution_count": null,
      "outputs": []
    },
    {
      "cell_type": "markdown",
      "metadata": {
        "id": "i0i8K9i3ZwD0",
        "colab_type": "text"
      },
      "source": [
        "c) Treine um classificador baseado em cada uma das duas representações vetoriais e Regressão Logística usando validação cruzada com 70% das amostras\n",
        "selecionadas para treino e 30% para teste. Exiba as matrizes de confusão,\n",
        "métricas de acurácia, precisão, recall e F1 score.\n"
      ]
    },
    {
      "cell_type": "code",
      "metadata": {
        "id": "wUXCvaoVcIII",
        "colab_type": "code",
        "colab": {}
      },
      "source": [
        "# Classificador Vetorial: "
      ],
      "execution_count": null,
      "outputs": []
    },
    {
      "cell_type": "code",
      "metadata": {
        "id": "vg1DYea2cjFp",
        "colab_type": "code",
        "colab": {}
      },
      "source": [
        "# Matrizes de Confusão para classificador vetorial:"
      ],
      "execution_count": null,
      "outputs": []
    },
    {
      "cell_type": "code",
      "metadata": {
        "id": "hY_S3RMYcomg",
        "colab_type": "code",
        "colab": {}
      },
      "source": [
        "# Métricas de desempenho (Acurácia, precisão, recall e F1-score) para classificador vetorial:"
      ],
      "execution_count": null,
      "outputs": []
    },
    {
      "cell_type": "code",
      "metadata": {
        "id": "UA7DznH6dnZj",
        "colab_type": "code",
        "colab": {}
      },
      "source": [
        "# Classificador c/ Regressão Logística:"
      ],
      "execution_count": null,
      "outputs": []
    },
    {
      "cell_type": "code",
      "metadata": {
        "id": "6WhoI1JIdnQD",
        "colab_type": "code",
        "colab": {}
      },
      "source": [
        "# Matrizes de confusão para classificador c/ regressão logística: "
      ],
      "execution_count": null,
      "outputs": []
    },
    {
      "cell_type": "code",
      "metadata": {
        "id": "ng-Nkuisdm2X",
        "colab_type": "code",
        "colab": {}
      },
      "source": [
        "# Métricas de desempenho (Acurácia, precisão, recal e F1-score) para classificador com Regrressão Logística: "
      ],
      "execution_count": null,
      "outputs": []
    },
    {
      "cell_type": "markdown",
      "metadata": {
        "id": "QBNVI5M3Zypr",
        "colab_type": "text"
      },
      "source": [
        "d) Faça o mesmo para o classificador Naive-Bayes.\n"
      ]
    },
    {
      "cell_type": "code",
      "metadata": {
        "id": "nD86SzVCeHl3",
        "colab_type": "code",
        "colab": {}
      },
      "source": [
        ""
      ],
      "execution_count": null,
      "outputs": []
    },
    {
      "cell_type": "markdown",
      "metadata": {
        "id": "ozMmz2QeZ0vp",
        "colab_type": "text"
      },
      "source": [
        "e) Faça o mesmo para um outro classificador de sua preferência (pesquise na\n",
        "biblioteca Scikit-learn).\n"
      ]
    },
    {
      "cell_type": "code",
      "metadata": {
        "id": "3KDF7SgHeP9j",
        "colab_type": "code",
        "colab": {}
      },
      "source": [
        ""
      ],
      "execution_count": null,
      "outputs": []
    },
    {
      "cell_type": "markdown",
      "metadata": {
        "id": "hJttYc0yZ2kB",
        "colab_type": "text"
      },
      "source": [
        "f) Compare os 6 resultados."
      ]
    },
    {
      "cell_type": "code",
      "metadata": {
        "id": "W_zf1r5TZovl",
        "colab_type": "code",
        "colab": {}
      },
      "source": [
        ""
      ],
      "execution_count": null,
      "outputs": []
    }
  ]
}