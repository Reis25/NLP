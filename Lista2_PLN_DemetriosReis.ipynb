{
  "nbformat": 4,
  "nbformat_minor": 0,
  "metadata": {
    "colab": {
      "name": "Lista2_PLN_DemetriosReis.ipynb",
      "provenance": [],
      "authorship_tag": "ABX9TyM3eA7J36b/g/ZgWoUuYxQ2",
      "include_colab_link": true
    },
    "kernelspec": {
      "name": "python3",
      "display_name": "Python 3"
    }
  },
  "cells": [
    {
      "cell_type": "markdown",
      "metadata": {
        "id": "view-in-github",
        "colab_type": "text"
      },
      "source": [
        "<a href=\"https://colab.research.google.com/github/Reis25/NLP/blob/master/Lista2_PLN_DemetriosReis.ipynb\" target=\"_parent\"><img src=\"https://colab.research.google.com/assets/colab-badge.svg\" alt=\"Open In Colab\"/></a>"
      ]
    },
    {
      "cell_type": "markdown",
      "metadata": {
        "id": "1UT6yYRxQmHU",
        "colab_type": "text"
      },
      "source": [
        "**UNIVERSIDADE FEDERAL DE ALAGOAS**\n",
        "\n",
        "INSTITUTO DE COMPUTAÇÃO\n",
        "\n",
        "Processamento de Linguagem Natural\n",
        "\n",
        "Professor: Thales Vieira\n",
        "\n",
        "Aluno: **Demétrios Reis Costa**\n",
        "\n",
        "2ª lista de exercícios"
      ]
    },
    {
      "cell_type": "markdown",
      "metadata": {
        "id": "j8FjPq4KQxaR",
        "colab_type": "text"
      },
      "source": [
        "Pesquise e escolha uma base contendo vários textos, em português ou\n",
        "inglês. Sugestão: procurar no Kaggle. Em seguida:\n",
        "\n",
        "**1. Determine a distribuiçãoo de comprimentos dos textos (em quantidade de caracteres), listando estas quantidades e plotando um histograma.**\n"
      ]
    },
    {
      "cell_type": "code",
      "metadata": {
        "id": "Dw35iysyQlS4",
        "colab_type": "code",
        "colab": {}
      },
      "source": [
        ""
      ],
      "execution_count": null,
      "outputs": []
    },
    {
      "cell_type": "markdown",
      "metadata": {
        "id": "Vi0ASWkQQ9rv",
        "colab_type": "text"
      },
      "source": [
        "**2. Aplique os seguintes passos de pré-processamento aos textos:**\n",
        "\n",
        "• Remova todas as palavras que contêm números;\n",
        "\n",
        "• Converta as palavras para minúsculas;\n",
        "\n",
        "• Remova pontuação;\n",
        "\n",
        "• Tokenize os textos em palavras, gerando um dicionário único com n tokens e convertendo cada texto em um vetor de dimensão n com a respectiva contagem de palavras.\n",
        "\n",
        "Em seguida, encontre as palavras mais frequentes.\n"
      ]
    },
    {
      "cell_type": "code",
      "metadata": {
        "id": "rPGfqDhERhXx",
        "colab_type": "code",
        "colab": {}
      },
      "source": [
        ""
      ],
      "execution_count": null,
      "outputs": []
    },
    {
      "cell_type": "markdown",
      "metadata": {
        "id": "jiIpW2rqRA8K",
        "colab_type": "text"
      },
      "source": [
        "**3. Aplique os seguintes passos de pré-processamento aos textos processados na questão anterior:**\n",
        "\n",
        "• Remova stopwords;\n",
        "\n",
        "• Realize rotulação de POS;\n",
        "\n",
        "• Realize stemização;\n",
        "\n",
        "Exiba os resultados em alguns textos. Verifique quais são as palavras mais\n",
        "frequentes e compare com as palavras mais frequentes da questão anterior."
      ]
    },
    {
      "cell_type": "code",
      "metadata": {
        "id": "Pvyaw5TRRiB6",
        "colab_type": "code",
        "colab": {}
      },
      "source": [
        ""
      ],
      "execution_count": null,
      "outputs": []
    }
  ]
}